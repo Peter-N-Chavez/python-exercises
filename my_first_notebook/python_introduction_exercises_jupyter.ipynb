{
 "cells": [
  {
   "cell_type": "code",
   "execution_count": null,
   "id": "107577a8",
   "metadata": {},
   "outputs": [],
   "source": [
    "\n",
    "    name = input(\"What is your name?\\n\")\n",
    "    bday = input(\"What is the month and day of your birthday?\\n\")\n",
    "    color = input(\"What is your favorite color?\\n\")\n",
    "    print(\"Hello, \", name, \". Have a happy birthday on \", bday, \"! Hope you get a fun present wrapped in\", color, \".\")\n",
    "\n",
    "# Jupyter has several keyboard shortcuts. Some of wich include RUN = ^ + return; \n",
    "# INSERT CELL BELOW = ESC first to access command line, then B;\n",
    "# FIND AND REPLACE = ESC fisrt to access command line, then F."
   ]
  }
 ],
 "metadata": {
  "kernelspec": {
   "display_name": "Python 3 (ipykernel)",
   "language": "python",
   "name": "python3"
  },
  "language_info": {
   "codemirror_mode": {
    "name": "ipython",
    "version": 3
   },
   "file_extension": ".py",
   "mimetype": "text/x-python",
   "name": "python",
   "nbconvert_exporter": "python",
   "pygments_lexer": "ipython3",
   "version": "3.9.12"
  }
 },
 "nbformat": 4,
 "nbformat_minor": 5
}
